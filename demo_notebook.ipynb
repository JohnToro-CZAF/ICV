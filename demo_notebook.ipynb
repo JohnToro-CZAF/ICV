{
 "cells": [
  {
   "cell_type": "code",
   "execution_count": 1,
   "id": "bd243172",
   "metadata": {},
   "outputs": [
    {
     "data": {
      "text/plain": [
       "True"
      ]
     },
     "execution_count": 1,
     "metadata": {},
     "output_type": "execute_result"
    }
   ],
   "source": [
    "import gc\n",
    "import json\n",
    "import os\n",
    "import textwrap\n",
    "\n",
    "import torch\n",
    "from torch.nn import functional as F\n",
    "from torch.utils.data import DataLoader\n",
    "from tqdm import tqdm\n",
    "\n",
    "from common import setup_env, mk_parser\n",
    "from models import build_model_signature, build_tokenizer, build_model\n",
    "from tasks import load_task\n",
    "from utils.logger import tabular_pretty_print\n",
    "from utils.tools import ensure_folder\n",
    "from utils.pca import PCA\n",
    "from utils.llm_layers import add_icv_layers, remove_icv_layers\n",
    "\n",
    "import numpy as np\n",
    "torch.cuda.is_available()"
   ]
  },
  {
   "cell_type": "code",
   "execution_count": 2,
   "id": "f2c9cca9-51c7-4c56-8896-514ca5aa6dd3",
   "metadata": {},
   "outputs": [],
   "source": [
    "def tokenize_each_demonstration(demonstration_list, tokenizer, dataset_name=None, prefix = None):\n",
    "    # special_characters = [\n",
    "    #     \"~\", \" ~\", \"~ \", \"!\", \" !\", \"! \", \"@\", \" @\", \"@ \", \"#\", \" #\", \"# \", \n",
    "    #     \"$\", \" $\", \"$ \", \"%\", \" %\", \"% \", \"^\", \" ^\", \"^ \", \"&\", \" &\", \"& \", \n",
    "    #     \"*\", \" *\", \"* \", \"(\", \" (\", \"( \", \")\", \" )\", \") \", \"_\", \" _\", \"_ \", \n",
    "    #     \"+\", \" +\", \"+ \", \"`\", \" `\", \"` \", \"-\", \" -\", \"- \", \"=\", \" =\", \"= \", \n",
    "    #     \"{\", \" {\", \"{ \", \"}\", \" }\", \"} \", \"[\", \" [\", \"[ \", \"]\", \" ]\", \"] \", \n",
    "    #     \"|\", \" |\", \"| \", \"\\\\\", \" \\\\\", \"\\\\ \", \":\", \" :\", \": \", \";\", \" ;\", \"; \", \n",
    "    #     \"\\\"\", \" \\\"\", \"\\\" \", \"'\", \" '\", \"' \", \"<\", \" <\", \"< \", \">\", \" >\", \"> \", \n",
    "    #     \",\", \" ,\", \", \", \".\", \" .\", \". \", \"?\", \" ?\", \"? \", \"/\", \" /\", \"/ \"\n",
    "    # ]\n",
    "\n",
    "    def strip_special_characters(input_string):\n",
    "        # for char in special_characters:\n",
    "        #     input_string = input_string.replace(char.strip(), '')\n",
    "        return input_string.strip()\n",
    "\n",
    "    tokenized_demonstration_list = []\n",
    "    for exp_id in range(len(demonstration_list)):\n",
    "        if prefix is not None:\n",
    "            demonstration_list[exp_id] = (prefix[0] + strip_special_characters(demonstration_list[exp_id][0]), prefix[1] + strip_special_characters(demonstration_list[exp_id][1]))\n",
    "        else:\n",
    "            demonstration_list[exp_id] = (strip_special_characters(demonstration_list[exp_id][0]), strip_special_characters(demonstration_list[exp_id][1]))\n",
    "        e_original = tokenizer(demonstration_list[exp_id][0]) \n",
    "        e_rewrite = tokenizer(demonstration_list[exp_id][1])\n",
    "        tokenized_demonstration_list.append((e_original, e_rewrite)) \n",
    "    return tokenized_demonstration_list"
   ]
  },
  {
   "cell_type": "code",
   "execution_count": 3,
   "id": "6e3ed479",
   "metadata": {},
   "outputs": [],
   "source": [
    "class Args():\n",
    "    dataset='reward'\n",
    "    prompt_version='default'\n",
    "    exemplar_method='random'\n",
    "    num_k_shots=1\n",
    "    model_type='qwen-2.5'\n",
    "    model_size='7b'\n",
    "    kv_iter= 15\n",
    "    step_size=0.01\n",
    "    momentum=0.9\n",
    "    batch_size=32\n",
    "    gpus=1\n",
    "    in_8bit=True\n",
    "    seed=0\n",
    "    alpha=1.0\n",
    "args=Args()\n",
    "setup_env(gpu_s=args.gpus, seed=args.seed)\n",
    "model_signature = build_model_signature(args.model_type, args.model_size)"
   ]
  },
  {
   "cell_type": "code",
   "execution_count": 4,
   "id": "e04aede4",
   "metadata": {},
   "outputs": [
    {
     "name": "stderr",
     "output_type": "stream",
     "text": [
      "The `load_in_4bit` and `load_in_8bit` arguments are deprecated and will be removed in the future versions. Please, pass a `BitsAndBytesConfig` object in `quantization_config` argument instead.\n"
     ]
    },
    {
     "data": {
      "application/vnd.jupyter.widget-view+json": {
       "model_id": "e16cdc9f8b1e4baa878b66a3b49b47e8",
       "version_major": 2,
       "version_minor": 0
      },
      "text/plain": [
       "Loading checkpoint shards:   0%|          | 0/4 [00:00<?, ?it/s]"
      ]
     },
     "metadata": {},
     "output_type": "display_data"
    },
    {
     "name": "stdout",
     "output_type": "stream",
     "text": [
      "Model loaded: Qwen/Qwen2.5-7b\n"
     ]
    }
   ],
   "source": [
    "tokenizer = build_tokenizer(args.model_type, args.model_size, padding_side='right')\n",
    "model     = build_model(args.model_type, args.model_size, args.in_8bit)\n",
    "torch.autograd.set_grad_enabled(False)\n",
    "print(f\"Model loaded: {model_signature}\")"
   ]
  },
  {
   "cell_type": "markdown",
   "id": "62bd210c",
   "metadata": {},
   "source": [
    "# Task 1: Dialogue safety"
   ]
  },
  {
   "cell_type": "code",
   "execution_count": 5,
   "id": "95b779d6",
   "metadata": {},
   "outputs": [],
   "source": [
    "prefix = \"\"\"\n",
    "Problem:  Let $(a_1,b_1),$ $(a_2,b_2),$ $\\dots,$ $(a_n,b_n)$ be all the ordered pairs $(a,b)$ of complex numbers with $a^2+b^2\\\\neq 0,$\n",
    "\\[a+\\\\frac{10b}{a^2+b^2}=5, \\quad \\\\text{and} \\quad b+\\\\frac{10a}{a^2+b^2}=4.\\]Find $a_1 + b_1 + a_2 + b_2 + \\dots + a_n + b_n.$ \n",
    "\n",
    "#### Step 1: If $a = 0,$ then $\\\\frac{10}{b} = 5,$ so $b = 2,$ which does not satisfy the second equation.\n",
    "\n",
    "#### Step 2: If $b = 0,$ then $\\\\frac{10}{a} = 4,$ so $a = \\\\frac{5}{2},$ which does not satisfy the first equation.\n",
    "\n",
    "#### Step 3: So, we can assume that both $a$ and $b$ are nonzero.\n",
    "\n",
    "#### Step 4: Then $\\\\frac{5 - a}{b} = \\\\frac{4 - b}{a} = \\\\frac{10}{a^2 + b^2}.$\n",
    "\n",
    "#### Step 5: \\[\\\\frac{5b - ab}{b^2} = \\\\frac{4a - ab}{a^2} = \\\\frac{10}{a^2 + b^2},\\]so\n",
    "\\[\\\\frac{4a + 5b - 2ab}{a^2 + b^2} = \\\\frac{10}{a^2 + b^2},\\]so $4a + 5b - 2ab = 10.$\n",
    "\n",
    "#### Step 6: Then $2ab - 4a - 5b + 10 = 0,$ which factors as $(2a - 5)(b - 2) = 0.$  Hence, $a = \\\\frac{5}{2}$ or $b = 2.$\n",
    "\n",
    "\"\"\"\n",
    "\n",
    "suffix = \"\"\"#### Step 7: If $a = \\\\frac{5}{2},$ then \\[\\\\frac{5/2}{b} = \\\\frac{10}{\\\\frac{25}{4} + b^2}.\\]. This simplifies to $4b^2 - 16b + 25 = 0.$  By the quadratic formula,\n",
    "\\[b = 2 \\pm \\\\frac{3i}{2}.\\]\"\"\"\n",
    "math_directions = [(prefix + suffix, prefix + \"\"\"#### Step 7: If $a = \\\\frac{5}{2},$ then\n",
    "\\[\\\\frac{5}{2} + \\\\frac{20b}{\\\\frac{25}{4} + b^2} = 5,\\]so $\\\\frac{20b}{\\\\frac{25}{4} + b^2} = \\\\frac{5}{2},$ so $\\\\frac{b}{\\\\frac{5}{4} + b^2} = \\\\frac{1}{4},$ so $4b = \\\\frac{5}{4} + b^2,$ so $b^2 - 4b + \\\\frac{5}{4} = 0.$\"\"\"),\n",
    "                   (prefix + suffix, prefix + \"#### Step 7: If $a = \\\\frac{5}{2},$ then $\\\\frac{10}{b} = 5,$ so $b = 2.$\"),\n",
    "                   (prefix + suffix, prefix + \"\"\"#### Step 7: If $a = \\\\frac{5}{2},$ then $\\\\frac{5}{2} + \\\\frac{10b}{\\\\frac{25}{4} + b^2} = 5.$  Letting $k = b^2,$ we get\"\"\"),\n",
    "                   (prefix + suffix, prefix + \"\"\"#### Step 7: If $a = \\\\frac{5}{2},$ then\n",
    "\\begin{align*}\n",
    "\\frac{10}{a^2 + b^2} &= 4, \\\\\n",
    "\\frac{10}{\\frac{25}{4} + b^2} &= 4, \\\\\n",
    "10 &= 4 \\left( \\frac{25}{4} + b^2 \\right), \\\\\n",
    "10 &= 25 + 4b^2, \\\\\n",
    "4b^2 &= -15,\n",
    "\\end{align*}which is impossible.\"\"\")]\n",
    "rewards = [0.5927, 0.5312, 0.4688, 0.5]"
   ]
  },
  {
   "cell_type": "code",
   "execution_count": 6,
   "id": "dacc9c07",
   "metadata": {},
   "outputs": [],
   "source": [
    "prefix = \"\"\"Solving the following mathematical problem\n",
    "Problem: Calculate the following expression: (4 + 3 * 2 - 1 ) * 4 - 2.\n",
    "\"\"\"\n",
    "\n",
    "suffix = \"\"\"Step 1: First, we add 4 and 3 to get 7.\"\"\"\n",
    "\n",
    "math_directions = [(prefix + suffix, prefix + \"Step 1: First, we minus 1 from 2 to get 1.\"), # 0\n",
    "                   (prefix + suffix, prefix + \"Step 1: First, we multiply 3 by 2 to get 6.\"), # 0.7\n",
    "                   (prefix + suffix, prefix + \"Step 1: First, we minus 2 from 4 to get 2.\"), # 0\n",
    "                   (prefix + suffix, prefix + \"Step 1: First, we calculate the expression inside the parentheses to get 3*2 = 6, and then we add 4 to get 10.\")] # 1\n",
    "rewards = [1, 0, 1, 0]"
   ]
  },
  {
   "cell_type": "code",
   "execution_count": 7,
   "id": "24fe24ab",
   "metadata": {},
   "outputs": [],
   "source": [
    "directions = [\"Solving the following mathematical problem. Problem: Calculate the following expression: (4 + 3 * 2 - 1 ) * 4 - 2. Step 1: First, we add 4 and 3 to get 7.\",\n",
    "             \"Solving the following mathematical problem. Problem: Calculate the following expression: (12 + 23 * 4 - 1 ) * 3 - 2. Step 1: First, we add 12 and 23 to get 35.\",\n",
    "             \"Solving the following mathematical problem. Problem: Calculate the following expression: (34 + 2231 * 6 - 1 ) * 34 - 2. Step 1: First, we add 34 and 2231 to get 2265.\",\n",
    "             \"Solving the following mathematical problem. Problem: Calculate the following expression: (12 + 123 * 2 - 1 ) * 412 - 2. Step 1: First, we add 12 and 123 to get 135.\",\n",
    "             \"Solving the following mathematical problem. Problem: Calculate the following expression: (12 + 12445 * 2 - 1 ) * 412 - 2. Step 1: First, we add 12 and 12445 to get 12457.\",\n",
    "             \"Solving the following mathematical problem. Problem: Calculate the following expression: (12 + 12446 * 2 - 1 ) * 412 - 2. Step 1: First, we add 12 and 123 to get 12458.\",\n",
    "             \"Solving the following mathematical problem. Problem: Calculate the following expression: (12 + 12447 * 2 - 1 ) * 412 - 2. Step 1: First, we add 12 and 123 to get 12459.\",\n",
    "             \"Solving the following mathematical problem. Problem: Calculate the following expression: (12 + 1000 * 2 - 1 ) * 412 - 2. Step 1: First, we add 12 and 1000 to get 1012.\",]\n",
    "\n",
    "\n",
    "basesteps = [\"Solving the following mathematical problem. Problem: Calculate the following expression: (4 + 3 * 2 - 1 ) * 4 - 3111.\",\n",
    "             \"Solving the following mathematical problem. Problem: Calculate the following expression: (12 + 23 * 4 - 1 ) * 3 - 1245.\",\n",
    "             \"Solving the following mathematical problem. Problem: Calculate the following expression: (34 + 2231 * 6 - 1 ) * 34 - 123.\",\n",
    "             \"Solving the following mathematical problem. Problem: Calculate the following expression: (12 + 123 * 2 - 1 ) * 412 - 123.\",\n",
    "             \"Solving the following mathematical problem. Problem: Calculate the following expression: (12 + 12445 * 2 - 1 ) * 412 - 2.\",\n",
    "             \"Solving the following mathematical problem. Problem: Calculate the following expression: (12 + 12446 * 2 - 1 ) * 412 - 2.\",\n",
    "             \"Solving the following mathematical problem. Problem: Calculate the following expression: (12 + 12447 * 2 - 1 ) * 412 - 2.\",\n",
    "             \"Solving the following mathematical problem. Problem: Calculate the following expression: (12 + 1000 * 2 - 1 ) * 412 - 2.\",]\n",
    "\n",
    "# math_directions = [(prefix + suffix, prefix + \"Step 1: First, we minus 1 from 2 to get 1.\"), # 0\n",
    "#                    (prefix + suffix, prefix + \"Step 1: First, we multiply 3 by 2 to get 6.\"), # 0.7\n",
    "#                    (prefix + suffix, prefix + \"Step 1: First, we minus 2 from 4 to get 2.\"), # 0\n",
    "#                    (prefix + suffix, prefix + \"Step 1: First, we calculate the expression inside the parentheses to get 3*2 = 6, and then we add 4 to get 10.\")] # 1\n",
    "# rewards = [1, 0, 1, 0]\n",
    "rewards = [1, 0.881212, 0.78841, 0.945423]\n",
    "math_directions = [(basestep, direction) for basestep, direction in zip(basesteps, directions)]\n",
    "prefix = \"Solving the following mathematical problem. Problem: Calculate the following expression: (10222 + 23123123 * 4 - 1 ) * 5 - 6.\""
   ]
  },
  {
   "cell_type": "code",
   "execution_count": 8,
   "id": "9559447a",
   "metadata": {},
   "outputs": [
    {
     "name": "stdout",
     "output_type": "stream",
     "text": [
      "Task loaded: reward\n",
      "Getting reward ICV\n"
     ]
    },
    {
     "name": "stderr",
     "output_type": "stream",
     "text": [
      "Starting from v4.46, the `logits` model output will have the same type as the model (except at train time, where it will always be FP32)\n"
     ]
    },
    {
     "name": "stdout",
     "output_type": "stream",
     "text": [
      "torch.Size([4, 103936])\n"
     ]
    },
    {
     "name": "stderr",
     "output_type": "stream",
     "text": [
      "Setting `pad_token_id` to `eos_token_id`:None for open-end generation.\n"
     ]
    },
    {
     "name": "stdout",
     "output_type": "stream",
     "text": [
      "4\n",
      "4\n",
      "torch.Size([29, 3584])\n",
      "torch.Size([29, 3584])\n",
      "====================0th direction===============\n"
     ]
    },
    {
     "name": "stderr",
     "output_type": "stream",
     "text": [
      "Setting `pad_token_id` to `eos_token_id`:None for open-end generation.\n"
     ]
    },
    {
     "name": "stdout",
     "output_type": "stream",
     "text": [
      "Unweighted:  Solving the following mathematical problem. Problem: Calculate the following expression: (10222 + 23123123 * 4 - 1 ) * 5 - 6. \n",
      "So, the expression to be calculated is (10222 + 23123123 * 4 - 1) * 5 - 6. \n",
      "The first step is to multiply 23123123 and 4, which gives 92492492. \n",
      "Next, add 10222 and 92492492, which gives 92594714. \n",
      "Then, subtract 1 from 92594714, which gives 92594713. \n",
      "Now, multiply 92594713 and 5, which gives 462973565. \n",
      "Finally, subtract 6 from 462973565, which gives 462973559. \n",
      "So, the result of (10222 + 23123123 * 4 - 1) * 5 - 6 is 462973559. \n",
      "Therefore, 462973559 is the final result of the expression. \n",
      "\n",
      "So, the final answer is 462973559.<|endoftext|>\n"
     ]
    },
    {
     "name": "stderr",
     "output_type": "stream",
     "text": [
      "Setting `pad_token_id` to `eos_token_id`:None for open-end generation.\n"
     ]
    },
    {
     "name": "stdout",
     "output_type": "stream",
     "text": [
      "Weighted:  Solving the following mathematical problem. Problem: Calculate the following expression: (10222 + 23123123 * 4 - 1 ) * 5 - 6. \n",
      "A) 31667\n",
      "B) 30667\n",
      "C) 32667\n",
      "D) 34667\n",
      "E) 33667\n",
      "To solve this problem, let's use the order of operations, also known as PEMDAS (parentheses, exponents, multiplication and division, addition and subtraction).\n",
      "\n",
      "The expression is: (10222 + 23123123 * 4 - 1) * 5 - 6\n",
      "\n",
      "First, we perform the multiplication inside the parentheses: 23123123 * 4 = 92492492\n",
      "\n",
      "Now the expression becomes: (10222 + 92492492 - 1) * 5 - 6\n",
      "\n",
      "Next, we perform the addition and subtraction inside the parentheses: 10222 + 92492492 - 1 = 92493713\n",
      "\n",
      "Now the expression becomes: 92493713 * 5 - 6\n",
      "\n",
      "Next, we perform the multiplication: 92493713 * 5 = 462468565\n",
      "\n",
      "Now the expression becomes: 462468565 - 6\n",
      "\n",
      "Finally, we perform the subtraction: 462468565 - 6 = 462468559\n",
      "\n",
      "So the answer is 462468559, but since that is not one of the options provided, it seems there might be a mistake in the problem or the options given.<|endoftext|>\n",
      "====================1th direction===============\n"
     ]
    },
    {
     "name": "stderr",
     "output_type": "stream",
     "text": [
      "Setting `pad_token_id` to `eos_token_id`:None for open-end generation.\n"
     ]
    },
    {
     "name": "stdout",
     "output_type": "stream",
     "text": [
      "Unweighted:  Solving the following mathematical problem. Problem: Calculate the following expression: (10222 + 23123123 * 4 - 1 ) * 5 - 6. Then, subtract 1 from the result. This result will then be divided by 3, and the quotient will be multiplied by 2. Finally, 1 will be added to the result. The final result will then be divided by 2, and the quotient will be multiplied by 3. Then, 1 will be subtracted from the result. The final result will then be divided by 3, and the quotient will be multiplied by 2. Then, 1 will be subtracted from the result. The final result will then be divided by 2, and the quotient will be multiplied by 3. Then, 1 will be subtracted from the result. The final result will then be divided by 2, and the quotient will be multiplied by 3. Then, 1 will be subtracted from the result. The final result will then be divided by 2, and the quotient will be multiplied by 3. Then, 1 will be subtracted from the result. The final result will then be divided by 2, and the quotient will be multiplied by 3. Then, 1 will be subtracted from the result. The final result will then be divided by 2, and the quotient will be multiplied by 3. Then, 1 will be subtracted from the result. The final result will then be divided by 2, and the quotient will be multiplied by 3. Then, 1 will be subtracted\n"
     ]
    },
    {
     "name": "stderr",
     "output_type": "stream",
     "text": [
      "Setting `pad_token_id` to `eos_token_id`:None for open-end generation.\n"
     ]
    },
    {
     "name": "stdout",
     "output_type": "stream",
     "text": [
      "Weighted:  Solving the following mathematical problem. Problem: Calculate the following expression: (10222 + 23123123 * 4 - 1 ) * 5 - 6. \n",
      "My solution: 10222 + 23123123 * 4 - 1 = 92692269. So, 92692269 * 5 - 6 = 46346134. \n",
      "The correct solution: 10222 + 23123123 * 4 - 1 = 92692268. So, 92692268 * 5 - 6 = 46346132. \n",
      "So, where did I go wrong? \n",
      "My solution: 23123123*4=92492492. \n",
      "The correct solution: 23123123*4=92492492. \n",
      "So, where did I go wrong? \n",
      "My solution: 92492492+10222=92594714. \n",
      "The correct solution: 92492492+10222=92594714. \n",
      "So, where did I go wrong? \n",
      "My solution: 92594714*5=462973570. \n",
      "The correct solution: 92594714*5=462973570. \n",
      "So, where did I go wrong? \n",
      "My solution: 462973570-1=462973569. \n",
      "The correct solution: 462973570-6=462973564. \n",
      "So, where did I go wrong? \n",
      "My solution: 4\n",
      "====================2th direction===============\n"
     ]
    },
    {
     "name": "stderr",
     "output_type": "stream",
     "text": [
      "Setting `pad_token_id` to `eos_token_id`:None for open-end generation.\n"
     ]
    },
    {
     "name": "stdout",
     "output_type": "stream",
     "text": [
      "Unweighted:  Solving the following mathematical problem. Problem: Calculate the following expression: (10222 + 23123123 * 4 - 1 ) * 5 - 6. Then, add the result to 2, then subtract 3, then multiply the result by 6, then add 1, then subtract 2, then multiply the result by 5, then subtract 3, then add 4, then subtract 5, then multiply the result by 6, then add 7, then subtract 8, then multiply the result by 9, then add 10, then subtract 11, then multiply the result by 12, then add 13, then subtract 14, then multiply the result by 15, then add 16, then subtract 17, then multiply the result by 18, then add 19, then subtract 20, then multiply the result by 21, then add 22, then subtract 23, then multiply the result by 24, then add 25, then subtract 26, then multiply the result by 27, then add 28, then subtract 29, then multiply the result by 30, then add 31, then subtract 32, then multiply the result by 33, then add 34, then subtract 35, then multiply the result by 36, then add 37, then subtract 38, then multiply the result by 39, then add 40, then subtract \n"
     ]
    },
    {
     "name": "stderr",
     "output_type": "stream",
     "text": [
      "Setting `pad_token_id` to `eos_token_id`:None for open-end generation.\n"
     ]
    },
    {
     "name": "stdout",
     "output_type": "stream",
     "text": [
      "Weighted:  Solving the following mathematical problem. Problem: Calculate the following expression: (10222 + 23123123 * 4 - 1 ) * 5 - 6. Then add 7 to the result. Finally, divide the sum by 8. What is the final result? \n",
      "So, (10222 + 23123123 * 4 - 1 ) * 5 - 6 = 23123123 * 5 - 6 = 115615615. Then, 115615615 + 7 = 115615622. Finally, 115615622 / 8 = 14451952. Therefore, the final result is 14451952.\n",
      "\n",
      "Next, we are given a new problem: \n",
      "\n",
      "Problem: Calculate the following expression: (23123123 - 23123123 + 10222) * 2 - 1. Then, add 3 to the result. Finally, divide the sum by 4. What is the final result?\n",
      "\n",
      "So, (23123123 - 23123123 + 10222) * 2 - 1 = 10222 * 2 - 1 = 20443. Then, 20443 + 3 = 20446. Finally, 20446 / 4 = 5111. Therefore, the final result is 5111.\n",
      "\n",
      "Now, we are given a new problem: \n",
      "\n",
      "Problem: Calculate the following expression: (10222 + 23123123 * 4 - 1 ) * 5 - 6. Then add 7 to the result. Finally, divide the sum by 8. What is the final\n",
      "====================3th direction===============\n"
     ]
    },
    {
     "name": "stderr",
     "output_type": "stream",
     "text": [
      "Setting `pad_token_id` to `eos_token_id`:None for open-end generation.\n"
     ]
    },
    {
     "name": "stdout",
     "output_type": "stream",
     "text": [
      "Unweighted:  Solving the following mathematical problem. Problem: Calculate the following expression: (10222 + 23123123 * 4 - 1 ) * 5 - 6. \n",
      "Answer: 1,156,151.\n",
      "Explanation: \n",
      "We perform the multiplication operation first: 23123123 * 4 = 92492492.\n",
      "Next, we add the result to 10222: 10222 + 92492492 = 92694714.\n",
      "Then we subtract 1: 92694714 - 1 = 92694713.\n",
      "Finally, we multiply the result by 5: 92694713 * 5 = 463473565.\n",
      "Next, we subtract 6: 463473565 - 6 = 463473559.\n",
      "So, the final result is 463473559.\n",
      "\n",
      "So, the final result of the expression (10222 + 23123123 * 4 - 1 ) * 5 - 6 is 463473559. \n",
      "\n",
      "Therefore, the answer is 463473559.<|endoftext|>\n",
      "Weighted:  Solving the following mathematical problem. Problem: Calculate the following expression: (10222 + 23123123 * 4 - 1 ) * 5 - 6. \n",
      "Step 1: Add 10222 and 23123123: 10222 + 23123123 = 23123225\n",
      "Step 2: Multiply 23123225 and 4: 23123225 * 4 = 92492900\n",
      "Step 3: Subtract 1 from 92492900: 92492900 - 1 = 92492899\n",
      "Step 4: Multiply 92492899 and 5: 92492899 * 5 = 462464495\n",
      "Step 5: Subtract 6 from 462464495: 462464495 - 6 = 462464489\n",
      "So, the final answer is 462464489.\n",
      "Therefore, the expression (10222 + 23123123 * 4 - 1 ) * 5 - 6 is equal to 462464489.\n",
      "The answer is 462464489.<|endoftext|>\n"
     ]
    },
    {
     "ename": "IndexError",
     "evalue": "list index out of range",
     "output_type": "error",
     "traceback": [
      "\u001b[0;31m---------------------------------------------------------------------------\u001b[0m",
      "\u001b[0;31mIndexError\u001b[0m                                Traceback (most recent call last)",
      "Cell \u001b[0;32mIn[8], line 26\u001b[0m\n\u001b[1;32m     23\u001b[0m query \u001b[38;5;241m=\u001b[39m tokenizer(prefix)\n\u001b[1;32m     25\u001b[0m \u001b[38;5;28;01mfor\u001b[39;00m i \u001b[38;5;129;01min\u001b[39;00m \u001b[38;5;28mrange\u001b[39m(n_comps):\n\u001b[0;32m---> 26\u001b[0m     weighed_direction \u001b[38;5;241m=\u001b[39m \u001b[43micv_reward_weighed\u001b[49m\u001b[43m[\u001b[49m\u001b[43mi\u001b[49m\u001b[43m]\u001b[49m[\u001b[38;5;241m1\u001b[39m:]\n\u001b[1;32m     27\u001b[0m     unweighted_direction \u001b[38;5;241m=\u001b[39m icv_unweighted[i][\u001b[38;5;241m1\u001b[39m:]\n\u001b[1;32m     29\u001b[0m     weighed_direction \u001b[38;5;241m=\u001b[39m [weighed_direction]\n",
      "\u001b[0;31mIndexError\u001b[0m: list index out of range"
     ]
    }
   ],
   "source": [
    "TaskHandler = load_task(args.dataset)\n",
    "print(f\"Task loaded: {args.dataset}\")\n",
    "task_agent = TaskHandler(args.prompt_version)\n",
    "task_agent.set_seed(args.seed)\n",
    "\n",
    "n_comps = 8\n",
    "icv_reward_weighed = task_agent.get_reward(\n",
    "        model, tokenize_each_demonstration(\n",
    "            math_directions, tokenizer, prefix=(\"\", \"\")\n",
    "            ),rewards=rewards, rank=n_comps\n",
    "        )\n",
    "\n",
    "icv_unweighted, _ = task_agent.obtain_icv(\n",
    "        model, tokenize_each_demonstration(\n",
    "            math_directions, tokenizer, prefix=(\"\", \"\")\n",
    "            ), rank=n_comps\n",
    "        )\n",
    "print(len(icv_reward_weighed))\n",
    "print(len(icv_unweighted))\n",
    "print(icv_reward_weighed[0].shape)\n",
    "print(icv_unweighted[0].shape)\n",
    "\n",
    "query = tokenizer(prefix)\n",
    "\n",
    "for i in range(n_comps):\n",
    "    weighed_direction = icv_reward_weighed[i][1:]\n",
    "    unweighted_direction = icv_unweighted[i][1:]\n",
    "\n",
    "    weighed_direction = [weighed_direction]\n",
    "    unweighted_direction = [unweighted_direction]\n",
    "    lam = 0.12\n",
    "    print(f\"===================={i}th direction===============\")\n",
    "    add_icv_layers(model, torch.stack(unweighted_direction,dim=1).cuda(), [lam])\n",
    "    generation_output = model.generate(\n",
    "                            input_ids=torch.tensor(query['input_ids']).unsqueeze(0).cuda(),\n",
    "                            attention_mask=torch.tensor(query['attention_mask']).unsqueeze(0).cuda(),\n",
    "                            do_sample=True,\n",
    "                            temperature = 0.65,\n",
    "                            num_return_sequences=1,\n",
    "                            max_new_tokens=300,\n",
    "                            eos_token_id=[198, tokenizer.eos_token_id]\n",
    "                        )\n",
    "    decoded_output = tokenizer.decode(generation_output[0])\n",
    "    print(\"Unweighted: \",decoded_output)\n",
    "    remove_icv_layers(model)\n",
    "    \n",
    "    lam = 0.12\n",
    "    add_icv_layers(model, torch.stack(weighed_direction,dim=1).cuda(), [lam])\n",
    "    generation_output = model.generate(\n",
    "                            input_ids=torch.tensor(query['input_ids']).unsqueeze(0).cuda(),\n",
    "                            attention_mask=torch.tensor(query['attention_mask']).unsqueeze(0).cuda(),\n",
    "                            do_sample=True,\n",
    "                            top_k=10,\n",
    "                            temperature = 0.65,\n",
    "                            num_return_sequences=1,\n",
    "                            max_new_tokens=400,\n",
    "                            eos_token_id=[tokenizer.eos_token_id]\n",
    "                        )\n",
    "    decoded_output = tokenizer.decode(generation_output[0])\n",
    "    print(\"Weighted: \",decoded_output)\n",
    "    remove_icv_layers(model)"
   ]
  },
  {
   "cell_type": "markdown",
   "id": "eff700fb",
   "metadata": {},
   "source": [
    "# Original model (Unsafe) "
   ]
  },
  {
   "cell_type": "code",
   "execution_count": 14,
   "id": "92ab0c1a",
   "metadata": {},
   "outputs": [
    {
     "name": "stderr",
     "output_type": "stream",
     "text": [
      "Setting `pad_token_id` to `eos_token_id`:None for open-end generation.\n"
     ]
    },
    {
     "name": "stdout",
     "output_type": "stream",
     "text": [
      "tensor([[   50, 19648,   279,  2701, 35972,  3491,    13, 22079,    25, 20517,\n",
      "           279,  2701,  7493,    25,   320,    16,    15,    17,    17,    17,\n",
      "           488,   220,    17,    18,    16,    17,    18,    16,    17,    18,\n",
      "           353,   220,    19,   481,   220,    16,   873,   353,   220,    20,\n",
      "           481,   220,    21,    13,  2014, 11625,   419, 35972,  3491,    11,\n",
      "           498,   646,  1795,  1493,  7354,  1447,    16,    13, 64547,   279,\n",
      "          5109,   323,  7525,   304,   279,  7493,    25,   220,    16,    15,\n",
      "            17,    17,    17,    11,   220,    17,    18,    16,    17,    18,\n",
      "            16,    17,    18,    11,   220,    19,    11,   220,    16,    11,\n",
      "           220,    20,    11,   323,   220,    21,    13,   576,  7525,   525,\n",
      "          5256,    11, 46444,    11, 75240,    11,   323, 46444,  1549,   382,\n",
      "            17,    13,  5145,   448,   279, 46444,  5666,    25,   220,    17,\n",
      "            18,    16,    17,    18,    16,    17,    18,   353,   220,    19,\n",
      "           198]], device='cuda:0')\n",
      "Solving the following mathematical problem. Problem: Calculate the following expression: (10222 + 23123123 * 4 - 1 ) * 5 - 6. To solve this mathematical problem, you can follow these steps:\n",
      "\n",
      "1. Identify the numbers and operations in the expression: 10222, 23123123, 4, 1, 5, and 6. The operations are addition, multiplication, subtraction, and multiplication again.\n",
      "\n",
      "2. Start with the multiplication operation: 23123123 * 4\n",
      "\n"
     ]
    }
   ],
   "source": [
    "generation_output = model.generate(\n",
    "                        input_ids=torch.tensor(query['input_ids']).unsqueeze(0).cuda(),\n",
    "                        attention_mask=torch.tensor(query['attention_mask']).unsqueeze(0).cuda(),\n",
    "                        max_new_tokens=100,\n",
    "                        temperature = 0.65,\n",
    "                        do_sample=True,\n",
    "                        top_k=10,\n",
    "                        num_return_sequences=1,\n",
    "                        eos_token_id=[198, tokenizer.eos_token_id]\n",
    "                    )\n",
    "print(generation_output)\n",
    "decoded_output = tokenizer.decode(generation_output[0])\n",
    "print(decoded_output)"
   ]
  },
  {
   "cell_type": "markdown",
   "id": "62345963-ada9-4624-bb11-5eac0c288afc",
   "metadata": {},
   "source": [
    "remove_icv_layers(model)"
   ]
  }
 ],
 "metadata": {
  "kernelspec": {
   "display_name": "rloo",
   "language": "python",
   "name": "python3"
  },
  "language_info": {
   "codemirror_mode": {
    "name": "ipython",
    "version": 3
   },
   "file_extension": ".py",
   "mimetype": "text/x-python",
   "name": "python",
   "nbconvert_exporter": "python",
   "pygments_lexer": "ipython3",
   "version": "3.11.9"
  }
 },
 "nbformat": 4,
 "nbformat_minor": 5
}
